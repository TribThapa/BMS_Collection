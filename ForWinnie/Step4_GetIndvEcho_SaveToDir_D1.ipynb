{
 "cells": [
  {
   "cell_type": "code",
   "execution_count": 1,
   "metadata": {},
   "outputs": [],
   "source": [
    "from glob import glob\n",
    "import os.path as op\n",
    "import nibabel as nib\n",
    "import shutil\n",
    "from shutil import copyfile\n",
    "import pathlib\n",
    "import pickle\n",
    "import gzip\n",
    "from glob import glob\n",
    "import nibabel as nb\n",
    "import numpy as np\n",
    "import os"
   ]
  },
  {
   "cell_type": "markdown",
   "metadata": {},
   "source": [
    "This section extracts individual echoes from fMRIPrep's workflow directory"
   ]
  },
  {
   "cell_type": "code",
   "execution_count": 15,
   "metadata": {},
   "outputs": [
    {
     "ename": "FileNotFoundError",
     "evalue": "[Errno 2] No such file or directory: '/projects/kg98/Thapa/WinnieData/Temp/sub-106/fmriprep_wf/single_subject_106_wf/func_preproc_task_REST_echo_1_wf/bold_reg_wf/bbreg_wf/fsl2itk_fwd/affine.txt'",
     "output_type": "error",
     "traceback": [
      "\u001b[0;31m---------------------------------------------------------------------------\u001b[0m",
      "\u001b[0;31mFileNotFoundError\u001b[0m                         Traceback (most recent call last)",
      "\u001b[0;32m<ipython-input-15-6f2a70b47e6d>\u001b[0m in \u001b[0;36m<module>\u001b[0;34m\u001b[0m\n\u001b[1;32m     62\u001b[0m \u001b[0;34m\u001b[0m\u001b[0m\n\u001b[1;32m     63\u001b[0m                 \u001b[0;32mfor\u001b[0m \u001b[0min_xform\u001b[0m \u001b[0;32min\u001b[0m \u001b[0mxform_rename2\u001b[0m\u001b[0;34m.\u001b[0m\u001b[0mkeys\u001b[0m\u001b[0;34m(\u001b[0m\u001b[0;34m)\u001b[0m\u001b[0;34m:\u001b[0m\u001b[0;34m\u001b[0m\u001b[0m\n\u001b[0;32m---> 64\u001b[0;31m                     \u001b[0mcopyfile\u001b[0m\u001b[0;34m(\u001b[0m\u001b[0min_xform\u001b[0m\u001b[0;34m,\u001b[0m \u001b[0mxform_rename2\u001b[0m\u001b[0;34m[\u001b[0m\u001b[0min_xform\u001b[0m\u001b[0;34m]\u001b[0m\u001b[0;34m)\u001b[0m\u001b[0;34m\u001b[0m\u001b[0m\n\u001b[0m\u001b[1;32m     65\u001b[0m                     \u001b[0;31m#print(xform_rename2[in_xform])\u001b[0m\u001b[0;34m\u001b[0m\u001b[0;34m\u001b[0m\u001b[0m\n",
      "\u001b[0;32m/usr/local/python/3.6.2-static/lib/python3.6/shutil.py\u001b[0m in \u001b[0;36mcopyfile\u001b[0;34m(src, dst, follow_symlinks)\u001b[0m\n\u001b[1;32m    118\u001b[0m         \u001b[0mos\u001b[0m\u001b[0;34m.\u001b[0m\u001b[0msymlink\u001b[0m\u001b[0;34m(\u001b[0m\u001b[0mos\u001b[0m\u001b[0;34m.\u001b[0m\u001b[0mreadlink\u001b[0m\u001b[0;34m(\u001b[0m\u001b[0msrc\u001b[0m\u001b[0;34m)\u001b[0m\u001b[0;34m,\u001b[0m \u001b[0mdst\u001b[0m\u001b[0;34m)\u001b[0m\u001b[0;34m\u001b[0m\u001b[0m\n\u001b[1;32m    119\u001b[0m     \u001b[0;32melse\u001b[0m\u001b[0;34m:\u001b[0m\u001b[0;34m\u001b[0m\u001b[0m\n\u001b[0;32m--> 120\u001b[0;31m         \u001b[0;32mwith\u001b[0m \u001b[0mopen\u001b[0m\u001b[0;34m(\u001b[0m\u001b[0msrc\u001b[0m\u001b[0;34m,\u001b[0m \u001b[0;34m'rb'\u001b[0m\u001b[0;34m)\u001b[0m \u001b[0;32mas\u001b[0m \u001b[0mfsrc\u001b[0m\u001b[0;34m:\u001b[0m\u001b[0;34m\u001b[0m\u001b[0m\n\u001b[0m\u001b[1;32m    121\u001b[0m             \u001b[0;32mwith\u001b[0m \u001b[0mopen\u001b[0m\u001b[0;34m(\u001b[0m\u001b[0mdst\u001b[0m\u001b[0;34m,\u001b[0m \u001b[0;34m'wb'\u001b[0m\u001b[0;34m)\u001b[0m \u001b[0;32mas\u001b[0m \u001b[0mfdst\u001b[0m\u001b[0;34m:\u001b[0m\u001b[0;34m\u001b[0m\u001b[0m\n\u001b[1;32m    122\u001b[0m                 \u001b[0mcopyfileobj\u001b[0m\u001b[0;34m(\u001b[0m\u001b[0mfsrc\u001b[0m\u001b[0;34m,\u001b[0m \u001b[0mfdst\u001b[0m\u001b[0;34m)\u001b[0m\u001b[0;34m\u001b[0m\u001b[0m\n",
      "\u001b[0;31mFileNotFoundError\u001b[0m: [Errno 2] No such file or directory: '/projects/kg98/Thapa/WinnieData/Temp/sub-106/fmriprep_wf/single_subject_106_wf/func_preproc_task_REST_echo_1_wf/bold_reg_wf/bbreg_wf/fsl2itk_fwd/affine.txt'"
     ]
    }
   ],
   "source": [
    "#Step 1: Define fMRIPrep working directory i.e., the TEMP folder\n",
    "work_dir = ('/home/ttha0011/kg98/Thapa/WinnieData/4a_fMRIPrepv1_4_0/Temp')\n",
    "\n",
    "#Step 2: Define fMRIPrep derivatives directory\n",
    "deriv_dir = ('/home/ttha0011/kg98/Thapa/WinnieData/4a_fMRIPrepv1_4_0/derivatives/fmriprep')\n",
    "\n",
    "#Step 3: Define subject ID\n",
    "subID = ['106']\n",
    "\n",
    "#Step 4: Rename bold registration, head motion correction, and susceptibility distortion correction work-flow\n",
    "xform_rename = {'bold_reg_wf/bbreg_wf/fsl2itk_fwd/affine.txt': '_from-reference_to-T1w_mode-image_xfm.txt',\n",
    "                'bold_hmc_wf/fsl2itk/mat2itk.txt': '_from-native_to-reference_mode-image_xfm.txt',\n",
    "                'sdc_wf/pepolar_unwarp_wf/cphdr_warp/_warpfieldQwarp_PLUS_WARP_fixhdr.nii.gz': '_sdc_warpfieldQwarp.nii.gz'}\n",
    "\n",
    "for sub in subID:\n",
    "    sub_in_dir = op.join(work_dir, 'sub-{0}/fmriprep_wf/single_subject_{0}_wf'.format(sub))\n",
    "    task_dirs = glob(op.join(sub_in_dir, 'func_preproc_task_{0}_echo_1_wf'.format(\"REST\")))\n",
    "    #print(task_dirs)\n",
    "    for task_dir in task_dirs:\n",
    "        bb_wf_dir = op.join(task_dir, 'bold_bold_trans_wf')\n",
    "        bf_dirs = sorted(glob(op.join(bb_wf_dir, '_bold_file_*')))                      \n",
    "        for bf_dir in bf_dirs:\n",
    "            bf_dir_list = bf_dir.split('..')\n",
    "            idx = bf_dir_list.index('sub-{0}'.format(sub))\n",
    "            sub_deriv_dir = op.join(deriv_dir, op.dirname('/'.join(bf_dir_list[idx:])))\n",
    "            bf_filename = bf_dir_list[-1]\n",
    "            in_file = op.join(bf_dir, 'merge/vol0000_xform-00000_merged.nii.gz')\n",
    "            orig_fn_list = bf_filename.split('_')\n",
    "            #print(orig_fn_list)\n",
    "            fn_list = orig_fn_list[:-1]\n",
    "            fn_list.insert(len(fn_list),'bold.nii.gz')\n",
    "            fn_list.insert(-1, 'space-native')\n",
    "            fn_list.insert(-1, 'desc-partialPreproc')\n",
    "            out_file = op.join(sub_deriv_dir, '_'.join(fn_list))\n",
    "            copyfile(in_file, out_file)  \n",
    "            #print(out_file)\n",
    "            \n",
    "            # Collect native-to-T1w and T1w-to-MNI transforms\n",
    "            out_func_dir = op.dirname(out_file)\n",
    "            #print(out_func_dir)\n",
    "            f = op.join(task_dir, \n",
    "                        'bold_std_trans_wf',\n",
    "                        '_key_MNI152NLin2009cAsym/bold_to_std_transform/_inputs.pklz')\n",
    "            with gzip.open(f, 'rb') as fo:\n",
    "                #print (fo)\n",
    "                data = pickle.load(fo)\n",
    "                \n",
    "            xform_rename2 = {}\n",
    "            orig_fn_list = [fn for fn in orig_fn_list if 'echo' not in fn]\n",
    "            #print(orig_fn_list)\n",
    "            orig_fn_list = orig_fn_list[:-1]\n",
    "            #print(orig_fn_list)\n",
    "            #print(xform_rename.keys())\n",
    "            \n",
    "            for xform in xform_rename.keys():\n",
    "                chosen = [xf for xf in data['transforms'] if xf.endswith(xform)]\n",
    "                assert len(chosen) == 1\n",
    "                chosen = chosen[0]\n",
    "                xform_fn = '_'.join(orig_fn_list) + xform_rename[xform]\n",
    "                xform_rename2[chosen] = op.join(out_func_dir, xform_fn)\n",
    "                #print(xform_rename2[chosen])\n",
    "                \n",
    "                for in_xform in xform_rename2.keys():\n",
    "                    copyfile(in_xform, xform_rename2[in_xform])\n",
    "                    #print(xform_rename2[in_xform]) "
   ]
  },
  {
   "cell_type": "code",
   "execution_count": 4,
   "metadata": {},
   "outputs": [
    {
     "data": {
      "text/plain": [
       "'/home/ttha0011/kg98/Thapa//WinnieData/5_ExtractedEchoes/sub-106/REST/sub-106_task-REST_sdc_warpfieldQwarp.nii.gz'"
      ]
     },
     "execution_count": 4,
     "metadata": {},
     "output_type": "execute_result"
    }
   ],
   "source": [
    "#Step 1: Define path to fMRIPrep folder\n",
    "path =('/home/ttha0011/kg98/Thapa/WinnieData/4a_fMRIPrepv1_4_0')\n",
    "\n",
    "#Step 2: Enter subject ID\n",
    "subID = ('sub-106')\n",
    "\n",
    "#Step 3: Enter condition i.e., DC2, dcPT1, ShamBlock, or eStim\n",
    "task = ('REST')\n",
    "\n",
    "#Step 4: Define path to anatomical folder. Need the xfm.h5 for T1w_to_MNI transformations\n",
    "anatpath = os.path.join(path,'derivatives/fmriprep/{}/anat'.format (subID))\n",
    "     \n",
    "#Step 5: Define path to functional folder. Need the exhoes and the transformation files\n",
    "funcpath = os.path.join(path,'derivatives/fmriprep/{}/func'.format (subID))\n",
    "\n",
    "#Step 6: Define path to where you will copy the extracted echoes, and transformation files\n",
    "ExtractedEchoesFolder = ('/home/ttha0011/kg98/Thapa//WinnieData/5_ExtractedEchoes')\n",
    "\n",
    "#Step 7: Make directory based upon subject ID\n",
    "os.makedirs(ExtractedEchoesFolder + '/' + subID, exist_ok=True) \n",
    "\n",
    "#Step 8: Make directory based upon the condition in each subject's folder \n",
    "os.makedirs(ExtractedEchoesFolder + '/' + subID + '/' + task, exist_ok=True) \n",
    "\n",
    "#Step 9: Define path to where you will copy the extracted echoes, and transformation files after creating necessary sub-directories\n",
    "ConditionFolder = os.path.join(ExtractedEchoesFolder + '/' + subID+ '/' + task. format(subID))\n",
    "\n",
    "#Step 10: Define the files to copy. These should be the same for each participant. File1 = anat folder; file2 - 7: func files\n",
    "file1 = ('{}_from-T1w_to-MNI152NLin2009cAsym_mode-image_xfm.h5'.format(subID))\n",
    "file2 = ('{}_task-{}_echo-1_space-native_desc-partialPreproc_bold.nii.gz'.format(subID, task))\n",
    "file3 = ('{}_task-{}_echo-2_space-native_desc-partialPreproc_bold.nii.gz'.format(subID, task))\n",
    "file4 = ('{}_task-{}_echo-3_space-native_desc-partialPreproc_bold.nii.gz'.format(subID, task))\n",
    "file5 = ('{}_task-{}_echo-4_space-native_desc-partialPreproc_bold.nii.gz'.format(subID, task))\n",
    "file6 = ('{}_task-{}_from-native_to-reference_mode-image_xfm.txt'.format(subID, task))\n",
    "file7 = ('{}_task-{}_from-reference_to-T1w_mode-image_xfm.txt'.format(subID, task))\n",
    "file8 = ('{}_task-{}_sdc_warpfieldQwarp.nii.gz'.format(subID, task))\n",
    "\n",
    "#Step 10: Copy files to the right dirctory i.e., the ConditionFolder. File1 = anat folder; file2 - 7: func files\n",
    "shutil.copy(anatpath + '/' + file1, ConditionFolder)\n",
    "shutil.copy(funcpath + '/' + file2, ConditionFolder)\n",
    "shutil.copy(funcpath + '/' + file3, ConditionFolder)\n",
    "shutil.copy(funcpath + '/' + file4, ConditionFolder)\n",
    "shutil.copy(funcpath + '/' + file5, ConditionFolder)\n",
    "shutil.copy(funcpath + '/' + file6, ConditionFolder)\n",
    "shutil.copy(funcpath + '/' + file7, ConditionFolder)\n",
    "shutil.copy(funcpath + '/' + file8, ConditionFolder)"
   ]
  },
  {
   "cell_type": "markdown",
   "metadata": {},
   "source": [
    "This section copies the extracted echoes to the Tedana folder. Use these echoes to run Tedana"
   ]
  },
  {
   "cell_type": "code",
   "execution_count": 5,
   "metadata": {},
   "outputs": [
    {
     "data": {
      "text/plain": [
       "'/home/ttha0011/kg98/Thapa/WinnieData/6_Tedana/sub-106/REST/Input/sub-106_task-REST_echo-4_space-native_desc-partialPreproc_bold.nii.gz'"
      ]
     },
     "execution_count": 5,
     "metadata": {},
     "output_type": "execute_result"
    }
   ],
   "source": [
    "#This script organises files to run Tedana. Note that the paths have been set in the cell above \n",
    "\n",
    "#Step 1: Define path to where the echoes extracted from fMRIPrep's workflow directory are located\n",
    "ExtractedEchoesFolder = ('/home/ttha0011/kg98/Thapa/WinnieData/5_ExtractedEchoes/{}/{}/'.format (subID, task))\n",
    "\n",
    "#Step 2: Define path to where you will copy the extracted echoes\n",
    "TedanaFolder = ('/home/ttha0011/kg98/Thapa/WinnieData/6_Tedana')\n",
    "\n",
    "#Step 3: Make directory in the TedanaFolder based upon subject ID\n",
    "os.makedirs(TedanaFolder + '/' + subID, exist_ok=True) \n",
    "\n",
    "#Step 4: Make directory based upon the condition in each subject's folder in the Tedana directory\n",
    "os.makedirs(TedanaFolder + '/' + subID + '/' + task, exist_ok=True) \n",
    "\n",
    "#Step 5: Make input (echoes files) and output (Tedana ouputs) folders in each condition's folder \n",
    "os.makedirs(TedanaFolder + '/' + subID + '/' + task + '/' + 'Input', exist_ok=True) \n",
    "os.makedirs(TedanaFolder + '/' + subID + '/' + task + '/' + 'Output', exist_ok=True) \n",
    "\n",
    "#Step 6: Define path to where you will copy the extracted echoes\n",
    "EchoesFolder = os.path.join(TedanaFolder + '/' + subID + '/' + task + '/' + 'Input')\n",
    "\n",
    "#Step 7: Define echo names \n",
    "Echo1 = ('{}_task-{}_echo-1_space-native_desc-partialPreproc_bold.nii.gz'.format(subID, task))\n",
    "Echo2 = ('{}_task-{}_echo-2_space-native_desc-partialPreproc_bold.nii.gz'.format(subID, task))\n",
    "Echo3 = ('{}_task-{}_echo-3_space-native_desc-partialPreproc_bold.nii.gz'.format(subID, task))\n",
    "Echo4 = ('{}_task-{}_echo-4_space-native_desc-partialPreproc_bold.nii.gz'.format(subID, task))\n",
    "\n",
    "#Step 8: Copy, and paste each echo in the Tedana folder \n",
    "shutil.copy(ExtractedEchoesFolder + '/' + Echo1, EchoesFolder)\n",
    "shutil.copy(ExtractedEchoesFolder + '/' + Echo2, EchoesFolder)\n",
    "shutil.copy(ExtractedEchoesFolder + '/' + Echo3, EchoesFolder)\n",
    "shutil.copy(ExtractedEchoesFolder + '/' + Echo4, EchoesFolder)"
   ]
  },
  {
   "cell_type": "markdown",
   "metadata": {},
   "source": [
    "This section copies the transformations to run ANTs"
   ]
  },
  {
   "cell_type": "code",
   "execution_count": 6,
   "metadata": {},
   "outputs": [
    {
     "data": {
      "text/plain": [
       "'/home/ttha0011/kg98/Thapa/WinnieData/7_Transformations/sub-106/REST/sub-106_task-REST_sdc_warpfieldQwarp.nii.gz'"
      ]
     },
     "execution_count": 6,
     "metadata": {},
     "output_type": "execute_result"
    }
   ],
   "source": [
    "#This script organises files to run ANTs after running Tedana\n",
    "\n",
    "#Step 1: Define path to where the transformations extracted from fMRIPrep are located\n",
    "ExtractedEchoesFolder = ('/home/ttha0011/kg98/Thapa/WinnieData/5_ExtractedEchoes/{}/{}/'.format (subID, task))\n",
    "\n",
    "#Step 2: Define path to where you will copy the transformation files\n",
    "TransformationsFolder = ('/home/ttha0011/kg98/Thapa/WinnieData/7_Transformations')\n",
    "\n",
    "#Step 3: Make directory based upon subject ID in the transformation folder\n",
    "os.makedirs(TransformationsFolder + '/' + subID, exist_ok=True) \n",
    "\n",
    "#Step 4: Make directory based upon the condition in each subject's folder in the transformation folder\n",
    "os.makedirs(TransformationsFolder + '/' + subID + '/' + task, exist_ok=True) \n",
    "\n",
    "#Step 5: Define path to where you will copy the transformation files \n",
    "TransFolder = os.path.join(TransformationsFolder + '/' + subID + '/' + task)\n",
    "\n",
    "#Step 6: Define transformation files\n",
    "Trans1 = ('{}_from-T1w_to-MNI152NLin2009cAsym_mode-image_xfm.h5'.format(subID))\n",
    "Trans2 = ('{}_task-{}_from-native_to-reference_mode-image_xfm.txt'.format(subID, task))\n",
    "Trans3 = ('{}_task-{}_from-reference_to-T1w_mode-image_xfm.txt'.format(subID, task))\n",
    "Trans4 = ('{}_task-{}_sdc_warpfieldQwarp.nii.gz'.format(subID, task))\n",
    "\n",
    "#Step 7: Copy, and paste transformation files to the transformation folder\n",
    "shutil.copy(ExtractedEchoesFolder + '/' + Trans1, TransFolder)\n",
    "shutil.copy(ExtractedEchoesFolder + '/' + Trans2, TransFolder)\n",
    "shutil.copy(ExtractedEchoesFolder + '/' + Trans3, TransFolder)\n",
    "shutil.copy(ExtractedEchoesFolder + '/' + Trans4, TransFolder)\n"
   ]
  },
  {
   "cell_type": "code",
   "execution_count": null,
   "metadata": {},
   "outputs": [],
   "source": []
  }
 ],
 "metadata": {
  "kernelspec": {
   "display_name": "Python 3",
   "language": "python",
   "name": "python3"
  },
  "language_info": {
   "codemirror_mode": {
    "name": "ipython",
    "version": 3
   },
   "file_extension": ".py",
   "mimetype": "text/x-python",
   "name": "python",
   "nbconvert_exporter": "python",
   "pygments_lexer": "ipython3",
   "version": "3.6.2"
  }
 },
 "nbformat": 4,
 "nbformat_minor": 4
}
