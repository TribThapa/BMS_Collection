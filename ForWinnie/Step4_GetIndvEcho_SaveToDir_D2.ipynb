{
 "cells": [
  {
   "cell_type": "code",
   "execution_count": 2,
   "metadata": {},
   "outputs": [],
   "source": [
    "from glob import glob\n",
    "import os.path as op\n",
    "import nibabel as nib\n",
    "import shutil\n",
    "from shutil import copyfile\n",
    "import pathlib\n",
    "import pickle\n",
    "import gzip\n",
    "from glob import glob\n",
    "import nibabel as nb\n",
    "import numpy as np\n",
    "import os"
   ]
  },
  {
   "cell_type": "code",
   "execution_count": 3,
   "metadata": {},
   "outputs": [
    {
     "name": "stdout",
     "output_type": "stream",
     "text": [
      "['/home/ttha0011/kg98/Thapa/WinnieData/4b_fMRIPrepv_20_2_1/Temp/sub-103/fmriprep_wf/single_subject_103_wf/func_preproc_task_REST_echo_1_wf']\n"
     ]
    }
   ],
   "source": [
    "#Step 1: Define fMRIPrep working directory i.e., the TEMP folder\n",
    "work_dir = ('/home/ttha0011/kg98/Thapa/WinnieData/4b_fMRIPrepv_20_2_1/Temp')\n",
    "\n",
    "#Step 2: Define fMRIPrep derivatives directory\n",
    "deriv_dir = ('/home/ttha0011/kg98/Thapa/WinnieData/4b_fMRIPrepv_20_2_1/derivatives/fmriprep')\n",
    "\n",
    "#Step 3: Define subject ID\n",
    "subID = ['103']\n",
    "\n",
    "#Step 4: Rename bold registration, head motion correction, and susceptibility distortion correction work-flow\n",
    "xform_rename = {'bold_reg_wf/bbreg_wf/fsl2itk_fwd/affine.txt': '_from-reference_to-T1w_mode-image_xfm.txt',\n",
    "                'bold_hmc_wf/fsl2itk/mat2itk.txt': '_from-native_to-reference_mode-image_xfm.txt',\n",
    "                'sdc_wf/pepolar_unwarp_wf/cphdr_warp/_warpfieldQwarp_PLUS_WARP_fixhdr.nii.gz': '_sdc_warpfieldQwarp.nii.gz'}\n",
    "\n",
    "for sub in subID:\n",
    "    sub_in_dir = op.join(work_dir, 'sub-{0}/fmriprep_wf/single_subject_{0}_wf'.format(sub))\n",
    "    task_dirs = glob(op.join(sub_in_dir, 'func_preproc_task_{0}_echo_1_wf'.format(\"REST\")))\n",
    "    print(task_dirs)\n",
    "    for task_dir in task_dirs:\n",
    "        bb_wf_dir = op.join(task_dir, 'bold_bold_trans_wf')\n",
    "        bf_dirs = sorted(glob(op.join(bb_wf_dir, '_bold_file_*')))        \n",
    "        for bf_dir in bf_dirs:\n",
    "            bf_dir_list = bf_dir.split('..')           \n",
    "            idx = bf_dir_list.index('sub-{0}'.format(sub))\n",
    "            sub_deriv_dir = op.join(deriv_dir, op.dirname('/'.join(bf_dir_list[idx:])))\n",
    "            bf_filename = bf_dir_list[-1]           \n",
    "            in_file = op.join(bf_dir, 'merge/vol0000_xform-00000_merged.nii.gz')\n",
    "            orig_fn_list = bf_filename.split('_')      \n",
    "            fn_list = orig_fn_list[:-1]\n",
    "            fn_list.insert(len(fn_list),'bold.nii.gz')\n",
    "            fn_list.insert(-1, 'space-native')\n",
    "            fn_list.insert(-1, 'desc-partialPreproc')\n",
    "            out_file = op.join(sub_deriv_dir, '_'.join(fn_list))\n",
    "            copyfile(in_file, out_file)  \n",
    "            #print(out_file)\n",
    "            \n",
    "            # Collect native-to-T1w and T1w-to-MNI transforms\n",
    "            out_func_dir = op.dirname(out_file)\n",
    "            #print(out_func_dir)            \n",
    "            f = op.join(task_dir, 'bold_std_trans_wf', '_std_target_MNI152NLin2009cAsym.res2/bold_to_std_transform/_inputs.pklz')\n",
    "            with gzip.open(f, 'rb') as fo:\n",
    "                #print (fo)\n",
    "                data = pickle.load(fo)\n",
    "   \n"
   ]
  },
  {
   "cell_type": "markdown",
   "metadata": {},
   "source": [
    "This section extracts individual echoes from fMRIPrep's workflow directory"
   ]
  },
  {
   "cell_type": "code",
   "execution_count": 130,
   "metadata": {},
   "outputs": [],
   "source": [
    "#Step 1: Define path to fMRIPrep folder\n",
    "path =('/home/ttha0011/kg98/Thapa/WinnieData/4b_fMRIPrepv_20_2_1')\n",
    "\n",
    "#Step 2: Enter subject ID\n",
    "subID = ('103')\n",
    "\n",
    "#Step 3: Enter condition i.e., DC2, dcPT1, ShamBlock, or eStim\n",
    "task = ('REST')\n",
    "\n",
    "#Step 4: Define path to anatomical folder. Need the xfm.h5 for T1w_to_MNI transformations\n",
    "anatpath = os.path.join(path,'derivatives/fmriprep/sub-{}/anat'.format (subID))\n",
    "     \n",
    "#Step 5: Define path to functional folder. Need the exhoes and the transformation files\n",
    "funcpath = os.path.join(path,'derivatives/fmriprep/sub-{}/func'.format (subID))\n",
    "\n",
    "#Step 6: Define path to bold_hmc_wfpath folder.\n",
    "bold_hmc_wfpath = os.path.join(path,'Temp/sub-{}/fmriprep_wf/single_subject_{}_wf/func_preproc_task_REST_echo_1_wf/bold_hmc_wf/fsl2itk'.format (subID,subID))\n",
    "\n",
    "#Step 6: Define path to bold_hmc_wfpath folder.\n",
    "sdc_wfpath = os.path.join(path,'Temp/sub-{}/fmriprep_wf/single_subject_{}_wf/func_preproc_task_REST_echo_1_wf/sdc_estimate_wf/pepolar_unwarp_wf/cphdr_warp'.format (subID,subID))\n",
    "\n",
    "#Step 6: Define path to where you will copy the extracted echoes, and transformation files\n",
    "ExtractedEchoesFolder = ('/home/ttha0011/kg98/Thapa/WinnieData/5_ExtractedEchoes')\n",
    "\n",
    "#Step 7: Make directory based upon subject ID\n",
    "os.makedirs(ExtractedEchoesFolder + '/sub-' + subID, exist_ok=True) \n",
    "\n",
    "#Step 8: Make directory based upon the condition in each subject's folder \n",
    "os.makedirs(ExtractedEchoesFolder + '/sub-' + subID + '/' + task, exist_ok=True) \n",
    "\n",
    "#Step 9: Define path to where you will copy the extracted echoes, and transformation files after creating necessary sub-directories\n",
    "ConditionFolder = os.path.join(ExtractedEchoesFolder + '/sub-' + subID+ '/' + task. format(subID))\n",
    "\n",
    "#/sub-103/fmriprep_wf/single_subject_103_wf/func_preproc_task_REST_echo_1_wf/bold_hmc_wf/fsl2itk'\n",
    "\n",
    "#Step 10: Define the files to copy. These should be the same for each participant. File1 = anat folder; file2 - 7: func files\n",
    "file1 = ('sub-{}_from-T1w_to-MNI152NLin2009cAsym_mode-image_xfm.h5'.format(subID))\n",
    "file2 = ('sub-{}_task-{}_echo-1_space-native_desc-partialPreproc_bold.nii.gz'.format(subID, task))\n",
    "file3 = ('sub-{}_task-{}_echo-2_space-native_desc-partialPreproc_bold.nii.gz'.format(subID, task))\n",
    "file4 = ('sub-{}_task-{}_echo-3_space-native_desc-partialPreproc_bold.nii.gz'.format(subID, task))\n",
    "file5 = ('sub-{}_task-{}_echo-4_space-native_desc-partialPreproc_bold.nii.gz'.format(subID, task))\n",
    "file6 = ('mat2itk.txt')\n",
    "file7 = ('sub-{}_from-fsnative_to-T1w_mode-image_xfm.txt'.format(subID, task))\n",
    "file8 = ('_warpfieldQwarp_PLUS_WARP_fixhdr.nii.gz'.format(subID, task))\n",
    "\n",
    "#Step 10: Copy files to the right dirctory i.e., the ConditionFolder. File1 = anat folder; file2 - 7: func files\n",
    "shutil.copy(anatpath + '/' + file1, ConditionFolder)\n",
    "shutil.copy(funcpath + '/' + file2, ConditionFolder)\n",
    "shutil.copy(funcpath + '/' + file3, ConditionFolder)\n",
    "shutil.copy(funcpath + '/' + file4, ConditionFolder)\n",
    "shutil.copy(funcpath + '/' + file5, ConditionFolder)\n",
    "shutil.copy(bold_hmc_wfpath + '/' + file6, ConditionFolder)\n",
    "shutil.copy(anatpath + '/' + file7, ConditionFolder)\n",
    "shutil.copy(sdc_wfpath + '/' + file8, ConditionFolder)\n",
    "\n",
    "\n",
    "dest_dir = ('/home/ttha0011/kg98/Thapa/WinnieData/5_ExtractedEchoes/sub-{}/REST/'.format(subID)) \n",
    "native_to_T1w = os.path.join(dest_dir, 'sub-103_from-fsnative_to-T1w_mode-image_xfm.txt')\n",
    "rename_native_to_T1w = os.path.join(dest_dir, ('sub-{}_task-REST_from-reference_to-T1w_mode-image_xfm.txt').format(subID))\n",
    "os.rename(native_to_T1w, rename_native_to_T1w)\n",
    "\n",
    "hmc_file = os.path.join(dest_dir, 'mat2itk.txt')\n",
    "rename_hmc_file = os.path.join(dest_dir, ('sub-{}_task-REST_from-native_to-reference_mode-image_xfm.txt').format(subID))\n",
    "os.rename(hmc_file, rename_hmc_file)\n",
    "\n",
    "sdc_file = os.path.join(dest_dir, '_warpfieldQwarp_PLUS_WARP_fixhdr.nii.gz')\n",
    "rename_sdc_file = os.path.join(dest_dir, ('sub-{}_task-REST_sdc_warpfieldQwarp.nii.gz').format(subID))\n",
    "os.rename(sdc_file, rename_sdc_file)"
   ]
  },
  {
   "cell_type": "code",
   "execution_count": null,
   "metadata": {},
   "outputs": [],
   "source": []
  },
  {
   "cell_type": "markdown",
   "metadata": {},
   "source": [
    "This section copies the extracted echoes to the Tedana folder. Use these echoes to run Tedana"
   ]
  },
  {
   "cell_type": "code",
   "execution_count": 131,
   "metadata": {},
   "outputs": [
    {
     "data": {
      "text/plain": [
       "'/home/ttha0011/kg98/Thapa/WinnieData/6_Tedana/sub-103/REST/Input/sub-103_task-REST_echo-4_space-native_desc-partialPreproc_bold.nii.gz'"
      ]
     },
     "execution_count": 131,
     "metadata": {},
     "output_type": "execute_result"
    }
   ],
   "source": [
    "#This script organises files to run Tedana. Note that the paths have been set in the cell above \n",
    "\n",
    "#Step 1: Define path to where the echoes extracted from fMRIPrep's workflow directory are located\n",
    "ExtractedEchoesFolder = ('/home/ttha0011/kg98/Thapa/WinnieData/5_ExtractedEchoes/sub-{}/{}'.format (subID, task))\n",
    "\n",
    "#Step 2: Define path to where you will copy the extracted echoes\n",
    "TedanaFolder = ('/home/ttha0011/kg98/Thapa/WinnieData/6_Tedana')\n",
    "\n",
    "#Step 3: Make directory in the TedanaFolder based upon subject ID\n",
    "os.makedirs(TedanaFolder + '/sub-' + subID, exist_ok=True) \n",
    "\n",
    "#Step 4: Make directory based upon the condition in each subject's folder in the Tedana directory\n",
    "os.makedirs(TedanaFolder + '/sub-' + subID + '/' + task, exist_ok=True) \n",
    "\n",
    "#Step 5: Make input (echoes files) and output (Tedana ouputs) folders in each condition's folder \n",
    "os.makedirs(TedanaFolder + '/sub-' + subID + '/' + task + '/' + 'Input', exist_ok=True) \n",
    "os.makedirs(TedanaFolder + '/sub-' + subID + '/' + task + '/' + 'Output', exist_ok=True) \n",
    "\n",
    "#Step 6: Define path to where you will copy the extracted echoes\n",
    "EchoesFolder = os.path.join(TedanaFolder + '/sub-' + subID + '/' + task + '/' + 'Input')\n",
    "\n",
    "#Step 7: Define echo names \n",
    "Echo1 = ('sub-{}_task-{}_echo-1_space-native_desc-partialPreproc_bold.nii.gz'.format(subID, task))\n",
    "Echo2 = ('sub-{}_task-{}_echo-2_space-native_desc-partialPreproc_bold.nii.gz'.format(subID, task))\n",
    "Echo3 = ('sub-{}_task-{}_echo-3_space-native_desc-partialPreproc_bold.nii.gz'.format(subID, task))\n",
    "Echo4 = ('sub-{}_task-{}_echo-4_space-native_desc-partialPreproc_bold.nii.gz'.format(subID, task))\n",
    "\n",
    "#Step 8: Copy, and paste each echo in the Tedana folder \n",
    "shutil.copy(ExtractedEchoesFolder + '/' + Echo1, EchoesFolder)\n",
    "shutil.copy(ExtractedEchoesFolder + '/' + Echo2, EchoesFolder)\n",
    "shutil.copy(ExtractedEchoesFolder + '/' + Echo3, EchoesFolder)\n",
    "shutil.copy(ExtractedEchoesFolder + '/' + Echo4, EchoesFolder)"
   ]
  },
  {
   "cell_type": "markdown",
   "metadata": {},
   "source": [
    "This section copies the transformations to run ANTs"
   ]
  },
  {
   "cell_type": "code",
   "execution_count": 132,
   "metadata": {},
   "outputs": [
    {
     "data": {
      "text/plain": [
       "'/home/ttha0011/kg98/Thapa/WinnieData/7_Transformations/sub-103/REST/sub-103_task-REST_sdc_warpfieldQwarp.nii.gz'"
      ]
     },
     "execution_count": 132,
     "metadata": {},
     "output_type": "execute_result"
    }
   ],
   "source": [
    "#This script organises files to run ANTs after running Tedana\n",
    "\n",
    "#Step 1: Define path to where the transformations extracted from fMRIPrep are located\n",
    "ExtractedEchoesFolder = ('/home/ttha0011/kg98/Thapa/WinnieData/5_ExtractedEchoes/sub-{}/{}'.format (subID, task))\n",
    "\n",
    "#Step 2: Define path to where you will copy the transformation files\n",
    "TransformationsFolder = ('/home/ttha0011/kg98/Thapa/WinnieData/7_Transformations')\n",
    "\n",
    "#Step 3: Make directory based upon subject ID in the transformation folder\n",
    "os.makedirs(TransformationsFolder + '/sub-' + subID, exist_ok=True) \n",
    "\n",
    "#Step 4: Make directory based upon the condition in each subject's folder in the transformation folder\n",
    "os.makedirs(TransformationsFolder + '/sub-' + subID + '/' + task, exist_ok=True) \n",
    "\n",
    "#Step 5: Define path to where you will copy the transformation files \n",
    "TransFolder = os.path.join(TransformationsFolder + '/sub-' + subID + '/' + task)\n",
    "\n",
    "#Step 6: Define transformation files\n",
    "Trans1 = ('sub-{}_from-T1w_to-MNI152NLin2009cAsym_mode-image_xfm.h5'.format(subID))\n",
    "Trans2 = ('sub-{}_task-{}_from-native_to-reference_mode-image_xfm.txt'.format(subID, task))\n",
    "Trans3 = ('sub-{}_task-{}_from-reference_to-T1w_mode-image_xfm.txt'.format(subID, task))\n",
    "Trans4 = ('sub-{}_task-{}_sdc_warpfieldQwarp.nii.gz'.format(subID, task))\n",
    "\n",
    "#Step 7: Copy, and paste transformation files to the transformation folder\n",
    "shutil.copy(ExtractedEchoesFolder + '/' + Trans1, TransFolder)\n",
    "shutil.copy(ExtractedEchoesFolder + '/' + Trans2, TransFolder)\n",
    "shutil.copy(ExtractedEchoesFolder + '/' + Trans3, TransFolder)\n",
    "shutil.copy(ExtractedEchoesFolder + '/' + Trans4, TransFolder)\n"
   ]
  },
  {
   "cell_type": "code",
   "execution_count": null,
   "metadata": {},
   "outputs": [],
   "source": []
  }
 ],
 "metadata": {
  "kernelspec": {
   "display_name": "Python 3",
   "language": "python",
   "name": "python3"
  },
  "language_info": {
   "codemirror_mode": {
    "name": "ipython",
    "version": 3
   },
   "file_extension": ".py",
   "mimetype": "text/x-python",
   "name": "python",
   "nbconvert_exporter": "python",
   "pygments_lexer": "ipython3",
   "version": "3.6.2"
  }
 },
 "nbformat": 4,
 "nbformat_minor": 4
}
